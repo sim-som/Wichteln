{
 "cells": [
  {
   "cell_type": "markdown",
   "id": "b8785e55-282c-46a9-a4c8-d59b7f2b7118",
   "metadata": {},
   "source": [
    "# Random selection of wichtel pairs"
   ]
  },
  {
   "cell_type": "markdown",
   "id": "bc400a21-f28f-49fe-ae2e-013d643225a0",
   "metadata": {},
   "source": [
    "## Idea take initial list of wichtel and sample pairs randomly.\n",
    "Apply some constrains to the output list:\n",
    "- identical pairs\n",
    "- no couples as wichtel pairs\n",
    "- no pairs from last year"
   ]
  },
  {
   "cell_type": "markdown",
   "id": "3128e81e-4f90-45d2-9c49-f26a5b9b2dd2",
   "metadata": {},
   "source": [
    "## First just randomly select and only constrain identical pairs:"
   ]
  },
  {
   "cell_type": "markdown",
   "id": "a211a48a-1ffc-41bc-8b80-0092e8235ac3",
   "metadata": {},
   "source": [
    "(first use list of fictional people to minimize bias)"
   ]
  },
  {
   "cell_type": "code",
   "execution_count": 80,
   "id": "fdeb26fe-cae1-4dad-88bd-36552487b5c7",
   "metadata": {},
   "outputs": [],
   "source": [
    "import random\n",
    "people = [\"Peter\", \"Christine\", \"Harald\", \"Heiz\", \"Karl\", \"Gundula\", \"Luke\", \"Franz\"]"
   ]
  },
  {
   "cell_type": "code",
   "execution_count": 75,
   "id": "9bb1e2f0-0617-4bed-8880-c1367cf4add9",
   "metadata": {},
   "outputs": [
    {
     "name": "stdout",
     "output_type": "stream",
     "text": [
      "[('Christine', 'Karl'), ('Gundula', 'Heiz'), ('Peter', 'Harald'), ('Luke', 'Franz')]\n"
     ]
    }
   ],
   "source": [
    "assert len(people) % 2 == 0\n",
    "wichtel_pairs = []\n",
    "while len(people) > 0:\n",
    "    # randomly sample both wichtel\n",
    "    wichtel1, wichtel2 = random.sample(people, 2)\n",
    "    if not wichtel1 == wichtel2:\n",
    "        # remove the new valid pair from the list of people:\n",
    "        people.remove(wichtel1)\n",
    "        people.remove(wichtel2)\n",
    "        # add to wichtel_pairs:\n",
    "        wichtel_pairs.append((wichtel1, wichtel2))\n",
    "\n",
    "print(wichtel_pairs)"
   ]
  },
  {
   "cell_type": "markdown",
   "id": "26e343d5-3a92-4198-bb65-b6b5bac10c03",
   "metadata": {},
   "source": [
    "## Randomly select with identical pairs constrained AND couple constrains:"
   ]
  },
  {
   "cell_type": "code",
   "execution_count": 82,
   "id": "ecdf6a11-6ed6-40d8-be7f-0aa4fd9de47a",
   "metadata": {},
   "outputs": [],
   "source": [
    "def is_couple(wichtel_pair):\n",
    "    assert len(wichtel_pair) == 2\n",
    "    couples = [(\"Peter\", \"Christine\"), (\"Karl\", \"Gundula\")]\n",
    "    is_c = False\n",
    "    \n",
    "    for c in couples:\n",
    "        if wichtel_pair == c or wichtel_pair == c[::-1]:\n",
    "            is_c = True\n",
    "    \n",
    "    return is_c\n"
   ]
  },
  {
   "cell_type": "code",
   "execution_count": 83,
   "id": "1c2a04f1-a69e-49b4-b939-d02b29f129bb",
   "metadata": {},
   "outputs": [
    {
     "name": "stdout",
     "output_type": "stream",
     "text": [
      "[('Harald', 'Gundula'), ('Luke', 'Peter'), ('Heiz', 'Franz'), ('Christine', 'Karl')]\n"
     ]
    }
   ],
   "source": [
    "people = [\"Peter\", \"Christine\", \"Harald\", \"Heiz\", \"Karl\", \"Gundula\", \"Luke\", \"Franz\"]\n",
    "assert len(people) % 2 == 0\n",
    "wichtel_pairs = []\n",
    "while len(people) > 0:\n",
    "    # randomly sample both wichtel\n",
    "    wichtel1, wichtel2 = random.sample(people, 2)\n",
    "    if wichtel1 != wichtel2 and not is_couple((wichtel1, wichtel2)):\n",
    "        # remove the new valid pair from the list of people:\n",
    "        people.remove(wichtel1)\n",
    "        people.remove(wichtel2)\n",
    "        # add to wichtel_pairs:\n",
    "        wichtel_pairs.append((wichtel1, wichtel2))\n",
    "\n",
    "print(wichtel_pairs)"
   ]
  },
  {
   "cell_type": "markdown",
   "id": "9d067474-d5d7-4c0f-9e3f-5b875858004e",
   "metadata": {},
   "source": [
    "## Randomly select with identical pairs constrained AND couple constrains AND no pairs from last year:"
   ]
  },
  {
   "cell_type": "code",
   "execution_count": 86,
   "id": "8c11b4da-0703-4bd9-85cf-94db62455e73",
   "metadata": {},
   "outputs": [],
   "source": [
    "def same_as_last_time(wichtel_pair):\n",
    "    assert len(wichtel_pair) == 2\n",
    "    wichtel_pairs_last_year = [('Harald', 'Gundula'), ('Luke', 'Peter'), ('Heiz', 'Franz'), ('Christine', 'Karl')]\n",
    "    like_last_time = False\n",
    "    \n",
    "    for wp in wichtel_pairs_last_year:\n",
    "        if wichtel_pair == wp or wichtel_pair == wp[::-1]:\n",
    "            like_last_time = True\n",
    "    \n",
    "    return like_last_time\n",
    "    "
   ]
  },
  {
   "cell_type": "code",
   "execution_count": 87,
   "id": "036bda7a-a7f4-4f2f-8ab7-0fc9bc0e8962",
   "metadata": {},
   "outputs": [
    {
     "name": "stdout",
     "output_type": "stream",
     "text": [
      "[('Luke', 'Heiz'), ('Franz', 'Peter'), ('Karl', 'Harald'), ('Gundula', 'Christine')]\n"
     ]
    }
   ],
   "source": [
    "people = [\"Peter\", \"Christine\", \"Harald\", \"Heiz\", \"Karl\", \"Gundula\", \"Luke\", \"Franz\"]\n",
    "\n",
    "\n",
    "assert len(people) % 2 == 0\n",
    "wichtel_pairs = []\n",
    "while len(people) > 0:\n",
    "    # randomly sample both wichtel\n",
    "    wichtel1, wichtel2 = random.sample(people, 2)\n",
    "    if wichtel1 != wichtel2 and not is_couple((wichtel1, wichtel2)) and not same_as_last_time((wichtel1, wichtel2)):\n",
    "        # remove the new valid pair from the list of people:\n",
    "        people.remove(wichtel1)\n",
    "        people.remove(wichtel2)\n",
    "        # add to wichtel_pairs:\n",
    "        wichtel_pairs.append((wichtel1, wichtel2))\n",
    "\n",
    "print(wichtel_pairs)"
   ]
  },
  {
   "cell_type": "code",
   "execution_count": null,
   "id": "b88305d9-e556-42de-b011-56cef393f30e",
   "metadata": {},
   "outputs": [],
   "source": []
  }
 ],
 "metadata": {
  "kernelspec": {
   "display_name": "Python 3",
   "language": "python",
   "name": "python3"
  },
  "language_info": {
   "codemirror_mode": {
    "name": "ipython",
    "version": 3
   },
   "file_extension": ".py",
   "mimetype": "text/x-python",
   "name": "python",
   "nbconvert_exporter": "python",
   "pygments_lexer": "ipython3",
   "version": "3.8.8"
  }
 },
 "nbformat": 4,
 "nbformat_minor": 5
}
