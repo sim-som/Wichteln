{
 "cells": [
  {
   "cell_type": "markdown",
   "id": "b8785e55-282c-46a9-a4c8-d59b7f2b7118",
   "metadata": {},
   "source": [
    "# Random selection of wichtel pairs"
   ]
  },
  {
   "cell_type": "markdown",
   "id": "bc400a21-f28f-49fe-ae2e-013d643225a0",
   "metadata": {},
   "source": [
    "## Idea take initial list of wichtel and sample pairs randomly.\n",
    "Apply some constrains to the output list:\n",
    "- identical pairs\n",
    "- no couples as wichtel pairs\n",
    "- no pairs from last year"
   ]
  },
  {
   "cell_type": "markdown",
   "id": "3128e81e-4f90-45d2-9c49-f26a5b9b2dd2",
   "metadata": {},
   "source": [
    "## First just randomly select and only constrain identical pairs:"
   ]
  },
  {
   "cell_type": "markdown",
   "id": "a211a48a-1ffc-41bc-8b80-0092e8235ac3",
   "metadata": {},
   "source": [
    "(first use list of fictional people to minimize bias)"
   ]
  },
  {
   "cell_type": "code",
   "execution_count": 1,
   "id": "fdeb26fe-cae1-4dad-88bd-36552487b5c7",
   "metadata": {},
   "outputs": [],
   "source": [
    "import random\n",
    "people = [\"Peter\", \"Christine\", \"Harald\", \"Heinz\", \"Karl\", \"Gundula\", \"Luke\", \"Franz\"]"
   ]
  },
  {
   "cell_type": "code",
   "execution_count": 2,
   "id": "9bb1e2f0-0617-4bed-8880-c1367cf4add9",
   "metadata": {},
   "outputs": [
    {
     "name": "stdout",
     "output_type": "stream",
     "text": [
      "[('Luke', 'Heinz'), ('Peter', 'Karl'), ('Christine', 'Harald'), ('Gundula', 'Franz')]\n"
     ]
    }
   ],
   "source": [
    "assert len(people) % 2 == 0\n",
    "wichtel_pairs = []\n",
    "while len(people) > 0:\n",
    "    # randomly sample both wichtel\n",
    "    wichtel1, wichtel2 = random.sample(people, 2)\n",
    "    if not wichtel1 == wichtel2:\n",
    "        # remove the new valid pair from the list of people:\n",
    "        people.remove(wichtel1)\n",
    "        people.remove(wichtel2)\n",
    "        # add to wichtel_pairs:\n",
    "        wichtel_pairs.append((wichtel1, wichtel2))\n",
    "\n",
    "print(wichtel_pairs)"
   ]
  },
  {
   "cell_type": "markdown",
   "id": "26e343d5-3a92-4198-bb65-b6b5bac10c03",
   "metadata": {},
   "source": [
    "## Randomly select with identical pairs constrained AND couple constrains:"
   ]
  },
  {
   "cell_type": "code",
   "execution_count": 3,
   "id": "ecdf6a11-6ed6-40d8-be7f-0aa4fd9de47a",
   "metadata": {},
   "outputs": [],
   "source": [
    "def is_couple(wichtel_pair, couples):\n",
    "    assert len(wichtel_pair) == 2\n",
    "    is_c = False\n",
    "    \n",
    "    for c in couples:\n",
    "        if wichtel_pair == c or wichtel_pair == c[::-1]:\n",
    "            is_c = True\n",
    "    \n",
    "    return is_c\n"
   ]
  },
  {
   "cell_type": "code",
   "execution_count": 4,
   "id": "1c2a04f1-a69e-49b4-b939-d02b29f129bb",
   "metadata": {},
   "outputs": [
    {
     "name": "stdout",
     "output_type": "stream",
     "text": [
      "[('Gundula', 'Peter'), ('Christine', 'Heinz'), ('Karl', 'Luke'), ('Franz', 'Harald')]\n"
     ]
    }
   ],
   "source": [
    "people = [\"Peter\", \"Christine\", \"Harald\", \"Heinz\", \"Karl\", \"Gundula\", \"Luke\", \"Franz\"]\n",
    "couples = [(\"Peter\", \"Christine\"), (\"Karl\", \"Gundula\")]\n",
    "\n",
    "assert len(people) % 2 == 0\n",
    "assert len(couples) <= len(people) // 2\n",
    "wichtel_pairs = []\n",
    "while len(people) > 0:\n",
    "    # randomly sample both wichtel\n",
    "    wichtel1, wichtel2 = random.sample(people, 2)\n",
    "    if wichtel1 != wichtel2 and not is_couple((wichtel1, wichtel2), couples):\n",
    "        # remove the new valid pair from the list of people:\n",
    "        people.remove(wichtel1)\n",
    "        people.remove(wichtel2)\n",
    "        # add to wichtel_pairs:\n",
    "        wichtel_pairs.append((wichtel1, wichtel2))\n",
    "\n",
    "print(wichtel_pairs)"
   ]
  },
  {
   "cell_type": "markdown",
   "id": "9d067474-d5d7-4c0f-9e3f-5b875858004e",
   "metadata": {},
   "source": [
    "## Randomly select with identical pairs constrained AND couple constrains AND no pairs from last year:"
   ]
  },
  {
   "cell_type": "code",
   "execution_count": 5,
   "id": "8c11b4da-0703-4bd9-85cf-94db62455e73",
   "metadata": {},
   "outputs": [],
   "source": [
    "def same_as_last_time(wichtel_pair:tuple, wichtel_pairs_last_time:list):\n",
    "    assert len(wichtel_pair) == 2\n",
    "    like_last_time = False\n",
    "    \n",
    "    for wp in wichtel_pairs_last_time:\n",
    "        if wichtel_pair == wp or wichtel_pair == wp[::-1]:\n",
    "            like_last_time = True\n",
    "    \n",
    "    return like_last_time\n",
    "    "
   ]
  },
  {
   "cell_type": "code",
   "execution_count": 58,
   "id": "036bda7a-a7f4-4f2f-8ab7-0fc9bc0e8962",
   "metadata": {},
   "outputs": [
    {
     "name": "stdout",
     "output_type": "stream",
     "text": [
      "people: ['Peter', 'Christine', 'Harald', 'Heinz', 'Karl', 'Gundula', 'Luke', 'Franz'] \n",
      "Wichtel: [('Heinz', 'Karl')]\n",
      "people: ['Peter', 'Christine', 'Harald', 'Gundula', 'Luke', 'Franz'] \n",
      "Wichtel: [('Heinz', 'Karl'), ('Franz', 'Christine')]\n",
      "people: ['Peter', 'Harald', 'Gundula', 'Luke'] \n",
      "Wichtel: [('Heinz', 'Karl'), ('Franz', 'Christine'), ('Peter', 'Luke')]\n",
      "people: ['Harald', 'Gundula'] \n",
      "Not converging. Resetting and starting again ...\n",
      "people: ['Peter', 'Christine', 'Harald', 'Heinz', 'Karl', 'Gundula', 'Luke', 'Franz'] \n",
      "Wichtel: [('Heinz', 'Luke')]\n",
      "people: ['Peter', 'Christine', 'Harald', 'Karl', 'Gundula', 'Franz'] \n",
      "Wichtel: [('Heinz', 'Luke'), ('Karl', 'Franz')]\n",
      "people: ['Peter', 'Christine', 'Harald', 'Gundula'] \n",
      "Wichtel: [('Heinz', 'Luke'), ('Karl', 'Franz'), ('Peter', 'Harald')]\n",
      "people: ['Christine', 'Gundula'] \n",
      "[('Heinz', 'Luke'), ('Karl', 'Franz'), ('Peter', 'Harald'), ('Christine', 'Gundula')]\n"
     ]
    }
   ],
   "source": [
    "people = [\"Peter\", \"Christine\", \"Harald\", \"Heinz\", \"Karl\", \"Gundula\", \"Luke\", \"Franz\"]\n",
    "couples = [(\"Peter\", \"Christine\"), (\"Karl\", \"Gundula\")]\n",
    "wichtel_pairs_last_time = [('Harald', 'Gundula'), ('Luke', 'Ferdinant'), ('Heiz', 'Franz'), ('Christine', 'Karl')]\n",
    "\n",
    "assert len(people) % 2 == 0\n",
    "assert len(couples) <= len(people) // 2\n",
    "\n",
    "people_copy = people.copy()\n",
    "\n",
    "wichtel_pairs = []\n",
    "print(f\"people: {people} \")\n",
    "while len(people) > 0:\n",
    "\n",
    "    \n",
    "\n",
    "    # randomly sample both wichtel\n",
    "    sampling = True\n",
    "    while sampling:\n",
    "        wichtel1, wichtel2 = random.sample(people, 2)\n",
    "        if wichtel1 != wichtel2 and not is_couple((wichtel1, wichtel2), couples) and not same_as_last_time((wichtel1, wichtel2), wichtel_pairs_last_time):\n",
    "            sampling = False\n",
    "\n",
    "\n",
    "    # remove the new valid pair from the list of people:\n",
    "    people.remove(wichtel1)\n",
    "    people.remove(wichtel2)\n",
    "    # add to wichtel_pairs:\n",
    "    wichtel_pairs.append((wichtel1, wichtel2))\n",
    "\n",
    "    print(f\"Wichtel: {wichtel_pairs}\")\n",
    "    print(f\"people: {people} \")\n",
    "\n",
    "    if len(people) == 2:\n",
    "        last_wichtel_pair = tuple(people)\n",
    "        if is_couple(last_wichtel_pair, couples) or same_as_last_time(last_wichtel_pair, wichtel_pairs_last_time):\n",
    "            print(\"Not converging. Resetting and starting again ...\")\n",
    "            # reset list of wichtel pairs and list of people:\n",
    "            wichtel_pairs = []\n",
    "            people = people_copy.copy()\n",
    "            print(f\"people: {people} \")\n",
    "        else:\n",
    "            wichtel_pairs.append(last_wichtel_pair)\n",
    "            break\n",
    "\n",
    "    \n",
    "\n",
    "print(wichtel_pairs)"
   ]
  },
  {
   "cell_type": "code",
   "execution_count": null,
   "id": "bd993eb7",
   "metadata": {},
   "outputs": [],
   "source": []
  }
 ],
 "metadata": {
  "kernelspec": {
   "display_name": "Python 3",
   "language": "python",
   "name": "python3"
  },
  "language_info": {
   "codemirror_mode": {
    "name": "ipython",
    "version": 3
   },
   "file_extension": ".py",
   "mimetype": "text/x-python",
   "name": "python",
   "nbconvert_exporter": "python",
   "pygments_lexer": "ipython3",
   "version": "3.8.8"
  }
 },
 "nbformat": 4,
 "nbformat_minor": 5
}
