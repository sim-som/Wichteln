{
 "cells": [
  {
   "cell_type": "markdown",
   "id": "b8785e55-282c-46a9-a4c8-d59b7f2b7118",
   "metadata": {},
   "source": [
    "# Random selection of wichtel pairs"
   ]
  },
  {
   "cell_type": "markdown",
   "id": "bc400a21-f28f-49fe-ae2e-013d643225a0",
   "metadata": {},
   "source": [
    "## Idea: take initial list of wichtel and randomly shuffeling pairs.\n",
    "Apply some constrains to the output list:\n",
    "- identical pairs\n",
    "- no couples as wichtel pairs\n",
    "- no pairs from last year"
   ]
  },
  {
   "cell_type": "markdown",
   "id": "a211a48a-1ffc-41bc-8b80-0092e8235ac3",
   "metadata": {},
   "source": [
    "(first use list of fictional people to minimize bias)"
   ]
  },
  {
   "cell_type": "code",
   "execution_count": 82,
   "id": "fdeb26fe-cae1-4dad-88bd-36552487b5c7",
   "metadata": {},
   "outputs": [],
   "source": [
    "import random"
   ]
  },
  {
   "cell_type": "code",
   "execution_count": 83,
   "id": "ecdf6a11-6ed6-40d8-be7f-0aa4fd9de47a",
   "metadata": {},
   "outputs": [],
   "source": [
    "def is_couple(wichtel_pair, couples):\n",
    "    assert len(wichtel_pair) == 2\n",
    "    is_c = False\n",
    "    \n",
    "    for c in couples:\n",
    "        if wichtel_pair == c or wichtel_pair == c[::-1]:\n",
    "            is_c = True\n",
    "    \n",
    "    return is_c\n"
   ]
  },
  {
   "cell_type": "markdown",
   "id": "9d067474-d5d7-4c0f-9e3f-5b875858004e",
   "metadata": {},
   "source": [
    "## Randomly select with identical pairs constrained AND couple constrains AND no pairs from last year:"
   ]
  },
  {
   "cell_type": "code",
   "execution_count": 84,
   "id": "8c11b4da-0703-4bd9-85cf-94db62455e73",
   "metadata": {},
   "outputs": [],
   "source": [
    "def same_as_last_time(wichtel_pair:tuple, wichtel_pairs_last_time:list):\n",
    "    assert len(wichtel_pair) == 2\n",
    "    like_last_time = False\n",
    "    \n",
    "    for wp in wichtel_pairs_last_time:\n",
    "        if wichtel_pair == wp:\n",
    "            like_last_time = True\n",
    "    \n",
    "    return like_last_time\n",
    "    "
   ]
  },
  {
   "cell_type": "code",
   "execution_count": 85,
   "id": "036bda7a-a7f4-4f2f-8ab7-0fc9bc0e8962",
   "metadata": {},
   "outputs": [
    {
     "name": "stdout",
     "output_type": "stream",
     "text": [
      "\n",
      "Wichtel pairs:\n",
      "[('Peter', 'Karl'), ('Christine', 'Peter'), ('Harald', 'Christine'), ('Heinz', 'Luke'), ('Karl', 'Gundula'), ('Gundula', 'Franz'), ('Luke', 'Harald'), ('Franz', 'Heinz')]\n",
      "Couple as wichtel pair: (Christine, Peter). Reshuffling ...\n",
      "\n",
      "Wichtel pairs:\n",
      "[('Peter', 'Christine'), ('Christine', 'Gundula'), ('Harald', 'Harald'), ('Heinz', 'Heinz'), ('Karl', 'Karl'), ('Gundula', 'Franz'), ('Luke', 'Luke'), ('Franz', 'Peter')]\n",
      "Couple as wichtel pair: (Peter, Christine). Reshuffling ...\n",
      "\n",
      "Wichtel pairs:\n",
      "[('Peter', 'Gundula'), ('Christine', 'Karl'), ('Harald', 'Heinz'), ('Heinz', 'Luke'), ('Karl', 'Christine'), ('Gundula', 'Peter'), ('Luke', 'Franz'), ('Franz', 'Harald')]\n",
      "Wichtel pair like last time occured: (Christine, Karl)\n",
      "\n",
      "Wichtel pairs:\n",
      "[('Peter', 'Luke'), ('Christine', 'Peter'), ('Harald', 'Christine'), ('Heinz', 'Franz'), ('Karl', 'Harald'), ('Gundula', 'Gundula'), ('Luke', 'Heinz'), ('Franz', 'Karl')]\n",
      "Couple as wichtel pair: (Christine, Peter). Reshuffling ...\n",
      "\n",
      "Wichtel pairs:\n",
      "[('Peter', 'Christine'), ('Christine', 'Karl'), ('Harald', 'Heinz'), ('Heinz', 'Harald'), ('Karl', 'Franz'), ('Gundula', 'Luke'), ('Luke', 'Gundula'), ('Franz', 'Peter')]\n",
      "Couple as wichtel pair: (Peter, Christine). Reshuffling ...\n",
      "\n",
      "Wichtel pairs:\n",
      "[('Peter', 'Karl'), ('Christine', 'Christine'), ('Harald', 'Peter'), ('Heinz', 'Heinz'), ('Karl', 'Luke'), ('Gundula', 'Gundula'), ('Luke', 'Harald'), ('Franz', 'Franz')]\n",
      "Identical pair: (Christine, Christine). Reshuffling ...\n",
      "\n",
      "Wichtel pairs:\n",
      "[('Peter', 'Peter'), ('Christine', 'Karl'), ('Harald', 'Christine'), ('Heinz', 'Franz'), ('Karl', 'Gundula'), ('Gundula', 'Luke'), ('Luke', 'Harald'), ('Franz', 'Heinz')]\n",
      "Identical pair: (Peter, Peter). Reshuffling ...\n",
      "\n",
      "Wichtel pairs:\n",
      "[('Peter', 'Franz'), ('Christine', 'Karl'), ('Harald', 'Luke'), ('Heinz', 'Peter'), ('Karl', 'Harald'), ('Gundula', 'Gundula'), ('Luke', 'Heinz'), ('Franz', 'Christine')]\n",
      "Wichtel pair like last time occured: (Christine, Karl)\n",
      "\n",
      "Wichtel pairs:\n",
      "[('Peter', 'Harald'), ('Christine', 'Peter'), ('Harald', 'Gundula'), ('Heinz', 'Karl'), ('Karl', 'Heinz'), ('Gundula', 'Franz'), ('Luke', 'Christine'), ('Franz', 'Luke')]\n",
      "Couple as wichtel pair: (Christine, Peter). Reshuffling ...\n",
      "\n",
      "Wichtel pairs:\n",
      "[('Peter', 'Gundula'), ('Christine', 'Christine'), ('Harald', 'Peter'), ('Heinz', 'Heinz'), ('Karl', 'Franz'), ('Gundula', 'Karl'), ('Luke', 'Luke'), ('Franz', 'Harald')]\n",
      "Identical pair: (Christine, Christine). Reshuffling ...\n",
      "\n",
      "Wichtel pairs:\n",
      "[('Peter', 'Peter'), ('Christine', 'Christine'), ('Harald', 'Heinz'), ('Heinz', 'Harald'), ('Karl', 'Luke'), ('Gundula', 'Gundula'), ('Luke', 'Franz'), ('Franz', 'Karl')]\n",
      "Identical pair: (Peter, Peter). Reshuffling ...\n",
      "\n",
      "Wichtel pairs:\n",
      "[('Peter', 'Franz'), ('Christine', 'Harald'), ('Harald', 'Peter'), ('Heinz', 'Christine'), ('Karl', 'Heinz'), ('Gundula', 'Luke'), ('Luke', 'Karl'), ('Franz', 'Gundula')]\n",
      "\n",
      "Final wichtel pairs:\n",
      "[('Peter', 'Franz'), ('Christine', 'Harald'), ('Harald', 'Peter'), ('Heinz', 'Christine'), ('Karl', 'Heinz'), ('Gundula', 'Luke'), ('Luke', 'Karl'), ('Franz', 'Gundula')]\n"
     ]
    }
   ],
   "source": [
    "\n",
    "def create_wichtel_pairs(donors:list, couples:list, wichtel_pairs_last_time:list, verbose=False):\n",
    "\n",
    "    assert len(couples) <= len(donors) // 2\n",
    "\n",
    "    acceptors = donors.copy()\n",
    "    shuffling = True\n",
    "    while shuffling:\n",
    "        random.shuffle(acceptors)\n",
    "        \n",
    "        if verbose:\n",
    "            print(\"\\nWichtel pairs:\")\n",
    "            print([(d, a) for d, a in zip(donors, acceptors)])\n",
    "\n",
    "        valid_pairs = True\n",
    "        for d, a in zip(donors, acceptors):\n",
    "\n",
    "            # check if there are no identical pairs in donors and acceptors:\n",
    "            if d == a:\n",
    "                if verbose:\n",
    "                    print(f\"Identical pair: ({d}, {a}). Reshuffling ...\")\n",
    "                valid_pairs = False\n",
    "                break\n",
    "\n",
    "            # check, if there are any couples as pairs:\n",
    "            if is_couple((d, a), couples):\n",
    "                if verbose:\n",
    "                    print(f\"Couple as wichtel pair: ({d}, {a}). Reshuffling ...\")\n",
    "                valid_pairs = False\n",
    "                break\n",
    "\n",
    "            # check, if thera are any pairs from a previous wichteling:\n",
    "            if  same_as_last_time((d, a), wichtel_pairs_last_time):\n",
    "                if verbose:\n",
    "                    print(f\"Wichtel pair like last time occured: ({d}, {a})\")\n",
    "                valid_pairs = False\n",
    "                break\n",
    "\n",
    "        \n",
    "        if valid_pairs:\n",
    "            shuffling = False\n",
    "\n",
    "    wichtel_pairs = [(d, a) for d, a in zip(donors, acceptors)]\n",
    "\n",
    "    if verbose:\n",
    "        print(\"\\nFinal wichtel pairs:\")\n",
    "        print(wichtel_pairs)\n",
    "\n",
    "\n",
    "    return wichtel_pairs\n",
    "\n",
    "test_donors = [\"Peter\", \"Christine\", \"Harald\", \"Heinz\", \"Karl\", \"Gundula\", \"Luke\", \"Franz\"]\n",
    "test_couples = [(\"Peter\", \"Christine\"), (\"Karl\", \"Gundula\")]\n",
    "test_wichtel_pairs_last_time = [('Harald', 'Gundula'), ('Luke', 'Ferdinant'), ('Heiz', 'Franz'), ('Christine', 'Karl')]\n",
    "\n",
    "wichtel_pairs = create_wichtel_pairs(test_donors, test_couples, test_wichtel_pairs_last_time, verbose=True)\n"
   ]
  },
  {
   "cell_type": "markdown",
   "id": "fe5d8885",
   "metadata": {},
   "source": [
    "# Now with real people:"
   ]
  },
  {
   "cell_type": "markdown",
   "id": "9eacc740",
   "metadata": {},
   "source": [
    "## Read in all people and their Mail adresses"
   ]
  },
  {
   "cell_type": "code",
   "execution_count": 86,
   "id": "708cc811",
   "metadata": {},
   "outputs": [],
   "source": [
    "adresses = {}\n",
    "with open(\"adressen.txt\", encoding = \"utf-8\") as f:\n",
    "    for row in f:\n",
    "        name, adress = row.split()\n",
    "        adresses[name.strip()] = adress.strip()"
   ]
  },
  {
   "cell_type": "code",
   "execution_count": 87,
   "id": "b10d6882",
   "metadata": {},
   "outputs": [
    {
     "data": {
      "text/plain": [
       "{'Nina': 'Nina-armbrust@web.de',\n",
       " 'Robin': 'robinjoe05@yahoo.de',\n",
       " 'Tobias': 'tobias.marx@hotmail.de',\n",
       " 'Pedro': 'hofer.pedro@web.de',\n",
       " 'Thomas': 'todomaes@gmail.com',\n",
       " 'Olivia': 'olivia_paulina@gmx.de',\n",
       " 'Clara': 'clara-alina.schulz@web.de',\n",
       " 'Christian': 'Steinfattchristian@yahoo.de',\n",
       " 'Linda': 'l.bruske@web.de',\n",
       " 'Ruben': 'rubenwolf@hotmail.de',\n",
       " 'Chrissi': 'Christ.schau@web.de',\n",
       " 'Niklas': 'n.kopecki@t-online.de',\n",
       " 'Kathi': 'Kf796@web.de',\n",
       " 'Hannah': 'hannahberndt18@googlemail.com',\n",
       " 'Simon': 'simonsommerhage@online.de'}"
      ]
     },
     "execution_count": 87,
     "metadata": {},
     "output_type": "execute_result"
    }
   ],
   "source": [
    "adresses"
   ]
  },
  {
   "cell_type": "code",
   "execution_count": 88,
   "id": "7f443039",
   "metadata": {},
   "outputs": [
    {
     "data": {
      "text/plain": [
       "['Nina',\n",
       " 'Robin',\n",
       " 'Tobias',\n",
       " 'Pedro',\n",
       " 'Thomas',\n",
       " 'Olivia',\n",
       " 'Clara',\n",
       " 'Christian',\n",
       " 'Linda',\n",
       " 'Ruben',\n",
       " 'Chrissi',\n",
       " 'Niklas',\n",
       " 'Kathi',\n",
       " 'Hannah',\n",
       " 'Simon']"
      ]
     },
     "execution_count": 88,
     "metadata": {},
     "output_type": "execute_result"
    }
   ],
   "source": [
    "donors = list(adresses.keys())\n",
    "donors"
   ]
  },
  {
   "cell_type": "markdown",
   "id": "7b2b6f25",
   "metadata": {},
   "source": [
    "## All previous wichtel donor-acceoptor pairs (\"wichtel pairs\"):"
   ]
  },
  {
   "cell_type": "code",
   "execution_count": 89,
   "id": "4da28206",
   "metadata": {},
   "outputs": [
    {
     "data": {
      "text/plain": [
       "[('Hannah', 'Kathi'),\n",
       " ('Linda', 'Tobi'),\n",
       " ('Olivia', 'Pedro'),\n",
       " ('Robin', 'Chrissi'),\n",
       " ('Chrissi', 'Linda_Brunner'),\n",
       " ('Pedro', 'Hannah'),\n",
       " ('Nina', 'Ruben'),\n",
       " ('Tobi', 'Flo'),\n",
       " ('Flo', 'Linda'),\n",
       " ('Simon', 'Thomas'),\n",
       " ('Christian', 'Simon'),\n",
       " ('Niklas', 'Robin'),\n",
       " ('Clara', 'Niklas'),\n",
       " ('Ruben', 'Clara'),\n",
       " ('Kathi', 'Anna'),\n",
       " ('Anna', 'Nina'),\n",
       " ('Thomas', 'Yannick'),\n",
       " ('Yannick', 'Olivia'),\n",
       " ('Linda_Brunner', 'Christian')]"
      ]
     },
     "execution_count": 89,
     "metadata": {},
     "output_type": "execute_result"
    }
   ],
   "source": [
    "wichtel_pairs_last_time = []\n",
    "with open(\"previous_wichtel_pairs.txt\", encoding=\"utf-8\") as f:\n",
    "    for row in f:\n",
    "        pair = row.split()\n",
    "        assert len(pair) == 2\n",
    "        pair[0] = pair[0].strip()\n",
    "        pair[1] = pair[1].strip()\n",
    "        wichtel_pairs_last_time.append(tuple(pair))\n",
    "\n",
    "wichtel_pairs_last_time"
   ]
  },
  {
   "cell_type": "code",
   "execution_count": 90,
   "id": "31ea93e7",
   "metadata": {},
   "outputs": [],
   "source": [
    "# check if each donor was a donor and acceptor last time:\n",
    "check = True\n",
    "for d in donors:\n",
    "     check = d in [pair[0] for pair in wichtel_pairs_last_time]\n",
    "     check = d in [pair[1] for pair in wichtel_pairs_last_time]\n",
    "assert check"
   ]
  },
  {
   "cell_type": "markdown",
   "id": "c8e6514b",
   "metadata": {},
   "source": [
    "## All couples:"
   ]
  },
  {
   "cell_type": "code",
   "execution_count": 91,
   "id": "1a0c08cd",
   "metadata": {},
   "outputs": [
    {
     "data": {
      "text/plain": [
       "[('Hannah', 'Simon'),\n",
       " ('Robin', 'Pedro'),\n",
       " ('Nina', 'Flo'),\n",
       " ('Tobi', 'Linda'),\n",
       " ('Chrissi', 'Jana'),\n",
       " ('Thomas', 'Olivia')]"
      ]
     },
     "execution_count": 91,
     "metadata": {},
     "output_type": "execute_result"
    }
   ],
   "source": [
    "couples = []\n",
    "with open(\"couples.txt\", encoding=\"utf-8\") as f:\n",
    "    for row in f:\n",
    "        c = row.split()\n",
    "        assert len(c) == 2\n",
    "        c[0] = c[0].strip()\n",
    "        c[1] = c[1].strip()\n",
    "        couples.append(tuple(c))\n",
    "\n",
    "couples"
   ]
  },
  {
   "cell_type": "markdown",
   "id": "a706e5e9",
   "metadata": {},
   "source": [
    "## Test run:"
   ]
  },
  {
   "cell_type": "code",
   "execution_count": 92,
   "id": "3c7f87fe",
   "metadata": {},
   "outputs": [
    {
     "name": "stdout",
     "output_type": "stream",
     "text": [
      "\n",
      "Wichtel pairs:\n",
      "[('Nina', 'Christian'), ('Robin', 'Simon'), ('Tobias', 'Tobias'), ('Pedro', 'Thomas'), ('Thomas', 'Ruben'), ('Olivia', 'Chrissi'), ('Clara', 'Clara'), ('Christian', 'Niklas'), ('Linda', 'Olivia'), ('Ruben', 'Linda'), ('Chrissi', 'Kathi'), ('Niklas', 'Pedro'), ('Kathi', 'Nina'), ('Hannah', 'Robin'), ('Simon', 'Hannah')]\n",
      "Identical pair: (Tobias, Tobias). Reshuffling ...\n",
      "\n",
      "Wichtel pairs:\n",
      "[('Nina', 'Pedro'), ('Robin', 'Nina'), ('Tobias', 'Tobias'), ('Pedro', 'Hannah'), ('Thomas', 'Thomas'), ('Olivia', 'Niklas'), ('Clara', 'Ruben'), ('Christian', 'Kathi'), ('Linda', 'Robin'), ('Ruben', 'Olivia'), ('Chrissi', 'Chrissi'), ('Niklas', 'Linda'), ('Kathi', 'Christian'), ('Hannah', 'Simon'), ('Simon', 'Clara')]\n",
      "Identical pair: (Tobias, Tobias). Reshuffling ...\n",
      "\n",
      "Wichtel pairs:\n",
      "[('Nina', 'Linda'), ('Robin', 'Kathi'), ('Tobias', 'Pedro'), ('Pedro', 'Hannah'), ('Thomas', 'Clara'), ('Olivia', 'Nina'), ('Clara', 'Thomas'), ('Christian', 'Chrissi'), ('Linda', 'Niklas'), ('Ruben', 'Ruben'), ('Chrissi', 'Robin'), ('Niklas', 'Simon'), ('Kathi', 'Tobias'), ('Hannah', 'Olivia'), ('Simon', 'Christian')]\n",
      "Wichtel pair like last time occured: (Pedro, Hannah)\n",
      "\n",
      "Wichtel pairs:\n",
      "[('Nina', 'Chrissi'), ('Robin', 'Olivia'), ('Tobias', 'Clara'), ('Pedro', 'Robin'), ('Thomas', 'Nina'), ('Olivia', 'Niklas'), ('Clara', 'Kathi'), ('Christian', 'Pedro'), ('Linda', 'Christian'), ('Ruben', 'Ruben'), ('Chrissi', 'Thomas'), ('Niklas', 'Hannah'), ('Kathi', 'Linda'), ('Hannah', 'Simon'), ('Simon', 'Tobias')]\n",
      "Couple as wichtel pair: (Pedro, Robin). Reshuffling ...\n",
      "\n",
      "Wichtel pairs:\n",
      "[('Nina', 'Hannah'), ('Robin', 'Olivia'), ('Tobias', 'Tobias'), ('Pedro', 'Nina'), ('Thomas', 'Kathi'), ('Olivia', 'Christian'), ('Clara', 'Simon'), ('Christian', 'Linda'), ('Linda', 'Robin'), ('Ruben', 'Thomas'), ('Chrissi', 'Clara'), ('Niklas', 'Niklas'), ('Kathi', 'Ruben'), ('Hannah', 'Chrissi'), ('Simon', 'Pedro')]\n",
      "Identical pair: (Tobias, Tobias). Reshuffling ...\n",
      "\n",
      "Wichtel pairs:\n",
      "[('Nina', 'Clara'), ('Robin', 'Olivia'), ('Tobias', 'Simon'), ('Pedro', 'Kathi'), ('Thomas', 'Hannah'), ('Olivia', 'Ruben'), ('Clara', 'Linda'), ('Christian', 'Christian'), ('Linda', 'Robin'), ('Ruben', 'Niklas'), ('Chrissi', 'Nina'), ('Niklas', 'Chrissi'), ('Kathi', 'Thomas'), ('Hannah', 'Tobias'), ('Simon', 'Pedro')]\n",
      "Identical pair: (Christian, Christian). Reshuffling ...\n",
      "\n",
      "Wichtel pairs:\n",
      "[('Nina', 'Christian'), ('Robin', 'Thomas'), ('Tobias', 'Olivia'), ('Pedro', 'Simon'), ('Thomas', 'Ruben'), ('Olivia', 'Chrissi'), ('Clara', 'Clara'), ('Christian', 'Hannah'), ('Linda', 'Robin'), ('Ruben', 'Nina'), ('Chrissi', 'Linda'), ('Niklas', 'Pedro'), ('Kathi', 'Tobias'), ('Hannah', 'Niklas'), ('Simon', 'Kathi')]\n",
      "Identical pair: (Clara, Clara). Reshuffling ...\n",
      "\n",
      "Wichtel pairs:\n",
      "[('Nina', 'Linda'), ('Robin', 'Kathi'), ('Tobias', 'Ruben'), ('Pedro', 'Robin'), ('Thomas', 'Christian'), ('Olivia', 'Hannah'), ('Clara', 'Olivia'), ('Christian', 'Chrissi'), ('Linda', 'Nina'), ('Ruben', 'Tobias'), ('Chrissi', 'Simon'), ('Niklas', 'Niklas'), ('Kathi', 'Pedro'), ('Hannah', 'Clara'), ('Simon', 'Thomas')]\n",
      "Couple as wichtel pair: (Pedro, Robin). Reshuffling ...\n",
      "\n",
      "Wichtel pairs:\n",
      "[('Nina', 'Pedro'), ('Robin', 'Chrissi'), ('Tobias', 'Simon'), ('Pedro', 'Robin'), ('Thomas', 'Niklas'), ('Olivia', 'Nina'), ('Clara', 'Kathi'), ('Christian', 'Thomas'), ('Linda', 'Olivia'), ('Ruben', 'Ruben'), ('Chrissi', 'Linda'), ('Niklas', 'Tobias'), ('Kathi', 'Christian'), ('Hannah', 'Hannah'), ('Simon', 'Clara')]\n",
      "Wichtel pair like last time occured: (Robin, Chrissi)\n",
      "\n",
      "Wichtel pairs:\n",
      "[('Nina', 'Thomas'), ('Robin', 'Hannah'), ('Tobias', 'Linda'), ('Pedro', 'Kathi'), ('Thomas', 'Ruben'), ('Olivia', 'Clara'), ('Clara', 'Christian'), ('Christian', 'Niklas'), ('Linda', 'Pedro'), ('Ruben', 'Tobias'), ('Chrissi', 'Simon'), ('Niklas', 'Olivia'), ('Kathi', 'Robin'), ('Hannah', 'Nina'), ('Simon', 'Chrissi')]\n",
      "\n",
      "Final wichtel pairs:\n",
      "[('Nina', 'Thomas'), ('Robin', 'Hannah'), ('Tobias', 'Linda'), ('Pedro', 'Kathi'), ('Thomas', 'Ruben'), ('Olivia', 'Clara'), ('Clara', 'Christian'), ('Christian', 'Niklas'), ('Linda', 'Pedro'), ('Ruben', 'Tobias'), ('Chrissi', 'Simon'), ('Niklas', 'Olivia'), ('Kathi', 'Robin'), ('Hannah', 'Nina'), ('Simon', 'Chrissi')]\n"
     ]
    }
   ],
   "source": [
    "test_wichtel_pairs = create_wichtel_pairs(donors, couples, wichtel_pairs_last_time, verbose=True)"
   ]
  },
  {
   "cell_type": "markdown",
   "id": "4a77ecd2",
   "metadata": {},
   "source": [
    "## Preparations for mail sending:"
   ]
  },
  {
   "cell_type": "code",
   "execution_count": 95,
   "id": "9379c49d",
   "metadata": {},
   "outputs": [
    {
     "name": "stdout",
     "output_type": "stream",
     "text": [
      "Subject: Dein Wichtel\n",
      "\n",
      "Hallo Nina,\n",
      "\n",
      "dieses Weihnachten bist du der/die Wichtel:in von Thomas.\n",
      "\n",
      "Ich bin dieses Jahr naemlich voll im Stress. Corona und so. Waere also echt cool, wenn du das uebernehmen wuerdest.\n",
      "\n",
      "Alles Gute\n",
      "Der Weihnachtsmann\n",
      "\n",
      "\n",
      "PS: Sorry fuer die fehlende Umlaute aber unicode wird am Nordpol erst 2024 eingefuehrt.\n",
      "\n",
      "Subject: Dein Wichtel\n",
      "\n",
      "Hallo Robin,\n",
      "\n",
      "dieses Weihnachten bist du der/die Wichtel:in von Hannah.\n",
      "\n",
      "Ich bin dieses Jahr naemlich voll im Stress. Corona und so. Waere also echt cool, wenn du das uebernehmen wuerdest.\n",
      "\n",
      "Alles Gute\n",
      "Der Weihnachtsmann\n",
      "\n",
      "\n",
      "PS: Sorry fuer die fehlende Umlaute aber unicode wird am Nordpol erst 2024 eingefuehrt.\n",
      "\n",
      "Subject: Dein Wichtel\n",
      "\n",
      "Hallo Tobias,\n",
      "\n",
      "dieses Weihnachten bist du der/die Wichtel:in von Linda.\n",
      "\n",
      "Ich bin dieses Jahr naemlich voll im Stress. Corona und so. Waere also echt cool, wenn du das uebernehmen wuerdest.\n",
      "\n",
      "Alles Gute\n",
      "Der Weihnachtsmann\n",
      "\n",
      "\n",
      "PS: Sorry fuer die fehlende Umlaute aber unicode wird am Nordpol erst 2024 eingefuehrt.\n",
      "\n",
      "Subject: Dein Wichtel\n",
      "\n",
      "Hallo Pedro,\n",
      "\n",
      "dieses Weihnachten bist du der/die Wichtel:in von Kathi.\n",
      "\n",
      "Ich bin dieses Jahr naemlich voll im Stress. Corona und so. Waere also echt cool, wenn du das uebernehmen wuerdest.\n",
      "\n",
      "Alles Gute\n",
      "Der Weihnachtsmann\n",
      "\n",
      "\n",
      "PS: Sorry fuer die fehlende Umlaute aber unicode wird am Nordpol erst 2024 eingefuehrt.\n",
      "\n",
      "Subject: Dein Wichtel\n",
      "\n",
      "Hallo Thomas,\n",
      "\n",
      "dieses Weihnachten bist du der/die Wichtel:in von Ruben.\n",
      "\n",
      "Ich bin dieses Jahr naemlich voll im Stress. Corona und so. Waere also echt cool, wenn du das uebernehmen wuerdest.\n",
      "\n",
      "Alles Gute\n",
      "Der Weihnachtsmann\n",
      "\n",
      "\n",
      "PS: Sorry fuer die fehlende Umlaute aber unicode wird am Nordpol erst 2024 eingefuehrt.\n",
      "\n",
      "Subject: Dein Wichtel\n",
      "\n",
      "Hallo Olivia,\n",
      "\n",
      "dieses Weihnachten bist du der/die Wichtel:in von Clara.\n",
      "\n",
      "Ich bin dieses Jahr naemlich voll im Stress. Corona und so. Waere also echt cool, wenn du das uebernehmen wuerdest.\n",
      "\n",
      "Alles Gute\n",
      "Der Weihnachtsmann\n",
      "\n",
      "\n",
      "PS: Sorry fuer die fehlende Umlaute aber unicode wird am Nordpol erst 2024 eingefuehrt.\n",
      "\n",
      "Subject: Dein Wichtel\n",
      "\n",
      "Hallo Clara,\n",
      "\n",
      "dieses Weihnachten bist du der/die Wichtel:in von Christian.\n",
      "\n",
      "Ich bin dieses Jahr naemlich voll im Stress. Corona und so. Waere also echt cool, wenn du das uebernehmen wuerdest.\n",
      "\n",
      "Alles Gute\n",
      "Der Weihnachtsmann\n",
      "\n",
      "\n",
      "PS: Sorry fuer die fehlende Umlaute aber unicode wird am Nordpol erst 2024 eingefuehrt.\n",
      "\n",
      "Subject: Dein Wichtel\n",
      "\n",
      "Hallo Christian,\n",
      "\n",
      "dieses Weihnachten bist du der/die Wichtel:in von Niklas.\n",
      "\n",
      "Ich bin dieses Jahr naemlich voll im Stress. Corona und so. Waere also echt cool, wenn du das uebernehmen wuerdest.\n",
      "\n",
      "Alles Gute\n",
      "Der Weihnachtsmann\n",
      "\n",
      "\n",
      "PS: Sorry fuer die fehlende Umlaute aber unicode wird am Nordpol erst 2024 eingefuehrt.\n",
      "\n",
      "Subject: Dein Wichtel\n",
      "\n",
      "Hallo Linda,\n",
      "\n",
      "dieses Weihnachten bist du der/die Wichtel:in von Pedro.\n",
      "\n",
      "Ich bin dieses Jahr naemlich voll im Stress. Corona und so. Waere also echt cool, wenn du das uebernehmen wuerdest.\n",
      "\n",
      "Alles Gute\n",
      "Der Weihnachtsmann\n",
      "\n",
      "\n",
      "PS: Sorry fuer die fehlende Umlaute aber unicode wird am Nordpol erst 2024 eingefuehrt.\n",
      "\n",
      "Subject: Dein Wichtel\n",
      "\n",
      "Hallo Ruben,\n",
      "\n",
      "dieses Weihnachten bist du der/die Wichtel:in von Tobias.\n",
      "\n",
      "Ich bin dieses Jahr naemlich voll im Stress. Corona und so. Waere also echt cool, wenn du das uebernehmen wuerdest.\n",
      "\n",
      "Alles Gute\n",
      "Der Weihnachtsmann\n",
      "\n",
      "\n",
      "PS: Sorry fuer die fehlende Umlaute aber unicode wird am Nordpol erst 2024 eingefuehrt.\n",
      "\n",
      "Subject: Dein Wichtel\n",
      "\n",
      "Hallo Chrissi,\n",
      "\n",
      "dieses Weihnachten bist du der/die Wichtel:in von Simon.\n",
      "\n",
      "Ich bin dieses Jahr naemlich voll im Stress. Corona und so. Waere also echt cool, wenn du das uebernehmen wuerdest.\n",
      "\n",
      "Alles Gute\n",
      "Der Weihnachtsmann\n",
      "\n",
      "\n",
      "PS: Sorry fuer die fehlende Umlaute aber unicode wird am Nordpol erst 2024 eingefuehrt.\n",
      "\n",
      "Subject: Dein Wichtel\n",
      "\n",
      "Hallo Niklas,\n",
      "\n",
      "dieses Weihnachten bist du der/die Wichtel:in von Olivia.\n",
      "\n",
      "Ich bin dieses Jahr naemlich voll im Stress. Corona und so. Waere also echt cool, wenn du das uebernehmen wuerdest.\n",
      "\n",
      "Alles Gute\n",
      "Der Weihnachtsmann\n",
      "\n",
      "\n",
      "PS: Sorry fuer die fehlende Umlaute aber unicode wird am Nordpol erst 2024 eingefuehrt.\n",
      "\n",
      "Subject: Dein Wichtel\n",
      "\n",
      "Hallo Kathi,\n",
      "\n",
      "dieses Weihnachten bist du der/die Wichtel:in von Robin.\n",
      "\n",
      "Ich bin dieses Jahr naemlich voll im Stress. Corona und so. Waere also echt cool, wenn du das uebernehmen wuerdest.\n",
      "\n",
      "Alles Gute\n",
      "Der Weihnachtsmann\n",
      "\n",
      "\n",
      "PS: Sorry fuer die fehlende Umlaute aber unicode wird am Nordpol erst 2024 eingefuehrt.\n",
      "\n",
      "Subject: Dein Wichtel\n",
      "\n",
      "Hallo Hannah,\n",
      "\n",
      "dieses Weihnachten bist du der/die Wichtel:in von Nina.\n",
      "\n",
      "Ich bin dieses Jahr naemlich voll im Stress. Corona und so. Waere also echt cool, wenn du das uebernehmen wuerdest.\n",
      "\n",
      "Alles Gute\n",
      "Der Weihnachtsmann\n",
      "\n",
      "\n",
      "PS: Sorry fuer die fehlende Umlaute aber unicode wird am Nordpol erst 2024 eingefuehrt.\n",
      "\n",
      "Subject: Dein Wichtel\n",
      "\n",
      "Hallo Simon,\n",
      "\n",
      "dieses Weihnachten bist du der/die Wichtel:in von Chrissi.\n",
      "\n",
      "Ich bin dieses Jahr naemlich voll im Stress. Corona und so. Waere also echt cool, wenn du das uebernehmen wuerdest.\n",
      "\n",
      "Alles Gute\n",
      "Der Weihnachtsmann\n",
      "\n",
      "\n",
      "PS: Sorry fuer die fehlende Umlaute aber unicode wird am Nordpol erst 2024 eingefuehrt.\n",
      "\n"
     ]
    }
   ],
   "source": [
    "import smtplib\n",
    "\n",
    "def write_message(donor:str, acceptor:str):\n",
    "    \n",
    "    test_message = f\"\"\"\\\n",
    "Subject: Dein Wichtel\\n\n",
    "Hallo {donor},\n",
    "\n",
    "dieses Weihnachten bist du der/die Wichtel:in von {acceptor}.\n",
    "\n",
    "Ich bin dieses Jahr naemlich voll im Stress. Corona und so. Waere also echt cool, wenn du das uebernehmen wuerdest.\n",
    "\n",
    "Alles Gute\n",
    "Der Weihnachtsmann\n",
    "\n",
    "\n",
    "PS: Sorry fuer die fehlende Umlaute aber unicode wird am Nordpol erst 2024 eingefuehrt.\n",
    "\"\"\"\n",
    "    \n",
    "    return test_message\n",
    "\n",
    "for d, a in test_wichtel_pairs:\n",
    "    print(write_message(d, a))"
   ]
  },
  {
   "cell_type": "code",
   "execution_count": 96,
   "id": "2e6a6111",
   "metadata": {},
   "outputs": [
    {
     "data": {
      "text/plain": [
       "(235, b'2.7.0 Accepted')"
      ]
     },
     "execution_count": 96,
     "metadata": {},
     "output_type": "execute_result"
    }
   ],
   "source": [
    "## login to SMTP server:\n",
    "sender = \"wichtel6969lol@gmail.com\"\n",
    "s = smtplib.SMTP(\"smtp.gmail.com\", 587)\n",
    "s.starttls()\n",
    "s.login(\"wichtel6969lol\", \"yV6W4pypdpXTTzJ\")"
   ]
  },
  {
   "cell_type": "markdown",
   "id": "fe6d8640",
   "metadata": {},
   "source": [
    "## Create the actual wichtel pairs and send the results"
   ]
  },
  {
   "cell_type": "code",
   "execution_count": 97,
   "id": "b926c6b2",
   "metadata": {},
   "outputs": [],
   "source": [
    "actual_wichtel_pairs = create_wichtel_pairs(donors, couples, wichtel_pairs_last_time)\n",
    "\n",
    "for d, a in actual_wichtel_pairs:\n",
    "    message = write_message(d, a)\n",
    "    s.sendmail(sender, adresses[d], message)"
   ]
  },
  {
   "cell_type": "code",
   "execution_count": 99,
   "id": "aebc1379",
   "metadata": {},
   "outputs": [
    {
     "ename": "SMTPServerDisconnected",
     "evalue": "please run connect() first",
     "output_type": "error",
     "traceback": [
      "\u001b[1;31m---------------------------------------------------------------------------\u001b[0m",
      "\u001b[1;31mSMTPServerDisconnected\u001b[0m                    Traceback (most recent call last)",
      "\u001b[1;32m<ipython-input-99-038e7ed96e79>\u001b[0m in \u001b[0;36m<module>\u001b[1;34m\u001b[0m\n\u001b[1;32m----> 1\u001b[1;33m \u001b[0ms\u001b[0m\u001b[1;33m.\u001b[0m\u001b[0mquit\u001b[0m\u001b[1;33m(\u001b[0m\u001b[1;33m)\u001b[0m\u001b[1;33m\u001b[0m\u001b[1;33m\u001b[0m\u001b[0m\n\u001b[0m",
      "\u001b[1;32m~\\anaconda3\\lib\\smtplib.py\u001b[0m in \u001b[0;36mquit\u001b[1;34m(self)\u001b[0m\n\u001b[0;32m    984\u001b[0m     \u001b[1;32mdef\u001b[0m \u001b[0mquit\u001b[0m\u001b[1;33m(\u001b[0m\u001b[0mself\u001b[0m\u001b[1;33m)\u001b[0m\u001b[1;33m:\u001b[0m\u001b[1;33m\u001b[0m\u001b[1;33m\u001b[0m\u001b[0m\n\u001b[0;32m    985\u001b[0m         \u001b[1;34m\"\"\"Terminate the SMTP session.\"\"\"\u001b[0m\u001b[1;33m\u001b[0m\u001b[1;33m\u001b[0m\u001b[0m\n\u001b[1;32m--> 986\u001b[1;33m         \u001b[0mres\u001b[0m \u001b[1;33m=\u001b[0m \u001b[0mself\u001b[0m\u001b[1;33m.\u001b[0m\u001b[0mdocmd\u001b[0m\u001b[1;33m(\u001b[0m\u001b[1;34m\"quit\"\u001b[0m\u001b[1;33m)\u001b[0m\u001b[1;33m\u001b[0m\u001b[1;33m\u001b[0m\u001b[0m\n\u001b[0m\u001b[0;32m    987\u001b[0m         \u001b[1;31m# A new EHLO is required after reconnecting with connect()\u001b[0m\u001b[1;33m\u001b[0m\u001b[1;33m\u001b[0m\u001b[1;33m\u001b[0m\u001b[0m\n\u001b[0;32m    988\u001b[0m         \u001b[0mself\u001b[0m\u001b[1;33m.\u001b[0m\u001b[0mehlo_resp\u001b[0m \u001b[1;33m=\u001b[0m \u001b[0mself\u001b[0m\u001b[1;33m.\u001b[0m\u001b[0mhelo_resp\u001b[0m \u001b[1;33m=\u001b[0m \u001b[1;32mNone\u001b[0m\u001b[1;33m\u001b[0m\u001b[1;33m\u001b[0m\u001b[0m\n",
      "\u001b[1;32m~\\anaconda3\\lib\\smtplib.py\u001b[0m in \u001b[0;36mdocmd\u001b[1;34m(self, cmd, args)\u001b[0m\n\u001b[0;32m    420\u001b[0m     \u001b[1;32mdef\u001b[0m \u001b[0mdocmd\u001b[0m\u001b[1;33m(\u001b[0m\u001b[0mself\u001b[0m\u001b[1;33m,\u001b[0m \u001b[0mcmd\u001b[0m\u001b[1;33m,\u001b[0m \u001b[0margs\u001b[0m\u001b[1;33m=\u001b[0m\u001b[1;34m\"\"\u001b[0m\u001b[1;33m)\u001b[0m\u001b[1;33m:\u001b[0m\u001b[1;33m\u001b[0m\u001b[1;33m\u001b[0m\u001b[0m\n\u001b[0;32m    421\u001b[0m         \u001b[1;34m\"\"\"Send a command, and return its response code.\"\"\"\u001b[0m\u001b[1;33m\u001b[0m\u001b[1;33m\u001b[0m\u001b[0m\n\u001b[1;32m--> 422\u001b[1;33m         \u001b[0mself\u001b[0m\u001b[1;33m.\u001b[0m\u001b[0mputcmd\u001b[0m\u001b[1;33m(\u001b[0m\u001b[0mcmd\u001b[0m\u001b[1;33m,\u001b[0m \u001b[0margs\u001b[0m\u001b[1;33m)\u001b[0m\u001b[1;33m\u001b[0m\u001b[1;33m\u001b[0m\u001b[0m\n\u001b[0m\u001b[0;32m    423\u001b[0m         \u001b[1;32mreturn\u001b[0m \u001b[0mself\u001b[0m\u001b[1;33m.\u001b[0m\u001b[0mgetreply\u001b[0m\u001b[1;33m(\u001b[0m\u001b[1;33m)\u001b[0m\u001b[1;33m\u001b[0m\u001b[1;33m\u001b[0m\u001b[0m\n\u001b[0;32m    424\u001b[0m \u001b[1;33m\u001b[0m\u001b[0m\n",
      "\u001b[1;32m~\\anaconda3\\lib\\smtplib.py\u001b[0m in \u001b[0;36mputcmd\u001b[1;34m(self, cmd, args)\u001b[0m\n\u001b[0;32m    367\u001b[0m         \u001b[1;32melse\u001b[0m\u001b[1;33m:\u001b[0m\u001b[1;33m\u001b[0m\u001b[1;33m\u001b[0m\u001b[0m\n\u001b[0;32m    368\u001b[0m             \u001b[0mstr\u001b[0m \u001b[1;33m=\u001b[0m \u001b[1;34m'%s %s%s'\u001b[0m \u001b[1;33m%\u001b[0m \u001b[1;33m(\u001b[0m\u001b[0mcmd\u001b[0m\u001b[1;33m,\u001b[0m \u001b[0margs\u001b[0m\u001b[1;33m,\u001b[0m \u001b[0mCRLF\u001b[0m\u001b[1;33m)\u001b[0m\u001b[1;33m\u001b[0m\u001b[1;33m\u001b[0m\u001b[0m\n\u001b[1;32m--> 369\u001b[1;33m         \u001b[0mself\u001b[0m\u001b[1;33m.\u001b[0m\u001b[0msend\u001b[0m\u001b[1;33m(\u001b[0m\u001b[0mstr\u001b[0m\u001b[1;33m)\u001b[0m\u001b[1;33m\u001b[0m\u001b[1;33m\u001b[0m\u001b[0m\n\u001b[0m\u001b[0;32m    370\u001b[0m \u001b[1;33m\u001b[0m\u001b[0m\n\u001b[0;32m    371\u001b[0m     \u001b[1;32mdef\u001b[0m \u001b[0mgetreply\u001b[0m\u001b[1;33m(\u001b[0m\u001b[0mself\u001b[0m\u001b[1;33m)\u001b[0m\u001b[1;33m:\u001b[0m\u001b[1;33m\u001b[0m\u001b[1;33m\u001b[0m\u001b[0m\n",
      "\u001b[1;32m~\\anaconda3\\lib\\smtplib.py\u001b[0m in \u001b[0;36msend\u001b[1;34m(self, s)\u001b[0m\n\u001b[0;32m    359\u001b[0m                 \u001b[1;32mraise\u001b[0m \u001b[0mSMTPServerDisconnected\u001b[0m\u001b[1;33m(\u001b[0m\u001b[1;34m'Server not connected'\u001b[0m\u001b[1;33m)\u001b[0m\u001b[1;33m\u001b[0m\u001b[1;33m\u001b[0m\u001b[0m\n\u001b[0;32m    360\u001b[0m         \u001b[1;32melse\u001b[0m\u001b[1;33m:\u001b[0m\u001b[1;33m\u001b[0m\u001b[1;33m\u001b[0m\u001b[0m\n\u001b[1;32m--> 361\u001b[1;33m             \u001b[1;32mraise\u001b[0m \u001b[0mSMTPServerDisconnected\u001b[0m\u001b[1;33m(\u001b[0m\u001b[1;34m'please run connect() first'\u001b[0m\u001b[1;33m)\u001b[0m\u001b[1;33m\u001b[0m\u001b[1;33m\u001b[0m\u001b[0m\n\u001b[0m\u001b[0;32m    362\u001b[0m \u001b[1;33m\u001b[0m\u001b[0m\n\u001b[0;32m    363\u001b[0m     \u001b[1;32mdef\u001b[0m \u001b[0mputcmd\u001b[0m\u001b[1;33m(\u001b[0m\u001b[0mself\u001b[0m\u001b[1;33m,\u001b[0m \u001b[0mcmd\u001b[0m\u001b[1;33m,\u001b[0m \u001b[0margs\u001b[0m\u001b[1;33m=\u001b[0m\u001b[1;34m\"\"\u001b[0m\u001b[1;33m)\u001b[0m\u001b[1;33m:\u001b[0m\u001b[1;33m\u001b[0m\u001b[1;33m\u001b[0m\u001b[0m\n",
      "\u001b[1;31mSMTPServerDisconnected\u001b[0m: please run connect() first"
     ]
    }
   ],
   "source": [
    "s.quit()"
   ]
  },
  {
   "cell_type": "code",
   "execution_count": null,
   "id": "edffc555",
   "metadata": {},
   "outputs": [],
   "source": []
  }
 ],
 "metadata": {
  "kernelspec": {
   "display_name": "Python 3 (ipykernel)",
   "language": "python",
   "name": "python3"
  },
  "language_info": {
   "codemirror_mode": {
    "name": "ipython",
    "version": 3
   },
   "file_extension": ".py",
   "mimetype": "text/x-python",
   "name": "python",
   "nbconvert_exporter": "python",
   "pygments_lexer": "ipython3",
   "version": "3.8.12"
  }
 },
 "nbformat": 4,
 "nbformat_minor": 5
}
