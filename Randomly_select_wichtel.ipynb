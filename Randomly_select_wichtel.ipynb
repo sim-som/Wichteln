{
 "cells": [
  {
   "cell_type": "markdown",
   "id": "b8785e55-282c-46a9-a4c8-d59b7f2b7118",
   "metadata": {},
   "source": [
    "# Random selection of wichtel pairs"
   ]
  },
  {
   "cell_type": "markdown",
   "id": "bc400a21-f28f-49fe-ae2e-013d643225a0",
   "metadata": {},
   "source": [
    "## Idea take initial list of wichtel and randomly shuffeling pairs.\n",
    "Apply some constrains to the output list:\n",
    "- identical pairs\n",
    "- no couples as wichtel pairs\n",
    "- no pairs from last year"
   ]
  },
  {
   "cell_type": "markdown",
   "id": "3128e81e-4f90-45d2-9c49-f26a5b9b2dd2",
   "metadata": {},
   "source": [
    "## First just randomly select and only constrain identical pairs:"
   ]
  },
  {
   "cell_type": "markdown",
   "id": "a211a48a-1ffc-41bc-8b80-0092e8235ac3",
   "metadata": {},
   "source": [
    "(first use list of fictional people to minimize bias)"
   ]
  },
  {
   "cell_type": "code",
   "execution_count": 1,
   "id": "fdeb26fe-cae1-4dad-88bd-36552487b5c7",
   "metadata": {},
   "outputs": [],
   "source": [
    "import random"
   ]
  },
  {
   "cell_type": "markdown",
   "id": "26e343d5-3a92-4198-bb65-b6b5bac10c03",
   "metadata": {},
   "source": [
    "## Randomly select with identical pairs constrained AND couple constrains:"
   ]
  },
  {
   "cell_type": "code",
   "execution_count": 2,
   "id": "ecdf6a11-6ed6-40d8-be7f-0aa4fd9de47a",
   "metadata": {},
   "outputs": [],
   "source": [
    "def is_couple(wichtel_pair, couples):\n",
    "    assert len(wichtel_pair) == 2\n",
    "    is_c = False\n",
    "    \n",
    "    for c in couples:\n",
    "        if wichtel_pair == c or wichtel_pair == c[::-1]:\n",
    "            is_c = True\n",
    "    \n",
    "    return is_c\n"
   ]
  },
  {
   "cell_type": "markdown",
   "id": "9d067474-d5d7-4c0f-9e3f-5b875858004e",
   "metadata": {},
   "source": [
    "## Randomly select with identical pairs constrained AND couple constrains AND no pairs from last year:"
   ]
  },
  {
   "cell_type": "code",
   "execution_count": 3,
   "id": "8c11b4da-0703-4bd9-85cf-94db62455e73",
   "metadata": {},
   "outputs": [],
   "source": [
    "def same_as_last_time(wichtel_pair:tuple, wichtel_pairs_last_time:list):\n",
    "    assert len(wichtel_pair) == 2\n",
    "    like_last_time = False\n",
    "    \n",
    "    for wp in wichtel_pairs_last_time:\n",
    "        if wichtel_pair == wp or wichtel_pair == wp[::-1]:\n",
    "            like_last_time = True\n",
    "    \n",
    "    return like_last_time\n",
    "    "
   ]
  },
  {
   "cell_type": "code",
   "execution_count": 10,
   "id": "036bda7a-a7f4-4f2f-8ab7-0fc9bc0e8962",
   "metadata": {},
   "outputs": [
    {
     "name": "stdout",
     "output_type": "stream",
     "text": [
      "\n",
      "Wichtel pairs:\n",
      "[('Peter', 'Luke'), ('Christine', 'Christine'), ('Harald', 'Karl'), ('Heinz', 'Peter'), ('Karl', 'Harald'), ('Gundula', 'Franz'), ('Luke', 'Heinz'), ('Franz', 'Gundula')]\n",
      "Identical pair: (Christine, Christine). Reshuffleing ...\n",
      "\n",
      "Wichtel pairs:\n",
      "[('Peter', 'Heinz'), ('Christine', 'Harald'), ('Harald', 'Franz'), ('Heinz', 'Peter'), ('Karl', 'Karl'), ('Gundula', 'Luke'), ('Luke', 'Christine'), ('Franz', 'Gundula')]\n",
      "Identical pair: (Karl, Karl). Reshuffleing ...\n",
      "\n",
      "Wichtel pairs:\n",
      "[('Peter', 'Peter'), ('Christine', 'Gundula'), ('Harald', 'Luke'), ('Heinz', 'Karl'), ('Karl', 'Harald'), ('Gundula', 'Franz'), ('Luke', 'Christine'), ('Franz', 'Heinz')]\n",
      "Identical pair: (Peter, Peter). Reshuffleing ...\n",
      "\n",
      "Wichtel pairs:\n",
      "[('Peter', 'Luke'), ('Christine', 'Gundula'), ('Harald', 'Karl'), ('Heinz', 'Franz'), ('Karl', 'Peter'), ('Gundula', 'Heinz'), ('Luke', 'Harald'), ('Franz', 'Christine')]\n",
      "\n",
      "Final wichtel pairs:\n",
      "[('Peter', 'Luke'), ('Christine', 'Gundula'), ('Harald', 'Karl'), ('Heinz', 'Franz'), ('Karl', 'Peter'), ('Gundula', 'Heinz'), ('Luke', 'Harald'), ('Franz', 'Christine')]\n"
     ]
    }
   ],
   "source": [
    "\n",
    "def create_wichtel_pairs(donors:list, couples:list, wichtel_pairs_last_time:list, verbose=False):\n",
    "\n",
    "    assert len(donors) % 2 == 0\n",
    "    assert len(couples) <= len(donors) // 2\n",
    "\n",
    "    acceptors = donors.copy()\n",
    "    shuffling = True\n",
    "    while shuffling:\n",
    "        random.shuffle(acceptors)\n",
    "        \n",
    "        if verbose:\n",
    "            print(\"\\nWichtel pairs:\")\n",
    "            print([(d, a) for d, a in zip(donors, acceptors)])\n",
    "\n",
    "        valid_pairs = True\n",
    "        for d, a in zip(donors, acceptors):\n",
    "\n",
    "            # check if there are no identical pairs in donors and acceptors:\n",
    "            if d == a:\n",
    "                if verbose:\n",
    "                    print(f\"Identical pair: ({d}, {a}). Reshuffleing ...\")\n",
    "                valid_pairs = False\n",
    "                break\n",
    "\n",
    "            # check, if there are any couples as pairs:\n",
    "            if is_couple((d, a), couples):\n",
    "                if verbose:\n",
    "                    print(f\"Couple as wichtel pair: ({d}, {a}). Reshuffling ...\")\n",
    "                valid_pairs = False\n",
    "                break\n",
    "\n",
    "            # check, if thera are any pairs from a previous wichteling:\n",
    "            if  same_as_last_time((d, a), wichtel_pairs_last_time):\n",
    "                if verbose:\n",
    "                    print(f\"Wichtel pair like last time accured: ({d}, {a})\")\n",
    "                valid_pairs = False\n",
    "                break\n",
    "\n",
    "        \n",
    "        if valid_pairs:\n",
    "            shuffling = False\n",
    "\n",
    "    wichtel_pairs = [(d, a) for d, a in zip(donors, acceptors)]\n",
    "\n",
    "    if verbose:\n",
    "        print(\"\\nFinal wichtel pairs:\")\n",
    "        print(wichtel_pairs)\n",
    "\n",
    "\n",
    "    return wichtel_pairs\n",
    "\n",
    "donors = [\"Peter\", \"Christine\", \"Harald\", \"Heinz\", \"Karl\", \"Gundula\", \"Luke\", \"Franz\"]\n",
    "couples = [(\"Peter\", \"Christine\"), (\"Karl\", \"Gundula\")]\n",
    "wichtel_pairs_last_time = [('Harald', 'Gundula'), ('Luke', 'Ferdinant'), ('Heiz', 'Franz'), ('Christine', 'Karl')]\n",
    "\n",
    "wichtel_pairs = create_wichtel_pairs(donors, couples, wichtel_pairs_last_time, verbose=True)\n"
   ]
  },
  {
   "cell_type": "code",
   "execution_count": null,
   "id": "fe5d8885",
   "metadata": {},
   "outputs": [],
   "source": []
  }
 ],
 "metadata": {
  "kernelspec": {
   "display_name": "Python 3",
   "language": "python",
   "name": "python3"
  },
  "language_info": {
   "codemirror_mode": {
    "name": "ipython",
    "version": 3
   },
   "file_extension": ".py",
   "mimetype": "text/x-python",
   "name": "python",
   "nbconvert_exporter": "python",
   "pygments_lexer": "ipython3",
   "version": "3.8.8"
  }
 },
 "nbformat": 4,
 "nbformat_minor": 5
}
